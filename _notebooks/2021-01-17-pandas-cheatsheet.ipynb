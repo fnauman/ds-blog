{
 "cells": [
  {
   "cell_type": "markdown",
   "metadata": {},
   "source": [
    "# Pandas cheatsheet\n",
    "\n",
    "- toc: true \n",
    "- hide: false\n",
    "- branch: master\n",
    "- search_exclude: false\n",
    "- badges: true\n",
    "- comments: true\n",
    "- categories: [numpy, pandas]"
   ]
  },
  {
   "cell_type": "markdown",
   "metadata": {},
   "source": [
    "Good resources:\n",
    " - [Real python](https://realpython.com/python-data-cleaning-numpy-pandas/?s=09)\n",
    " - [Pandas Docs](https://pandas.pydata.org/pandas-docs/stable/reference/api/pandas.DataFrame.apply.html)"
   ]
  },
  {
   "cell_type": "code",
   "execution_count": 1,
   "metadata": {},
   "outputs": [],
   "source": [
    "# hide\n",
    "import pandas as pd\n",
    "import numpy as np"
   ]
  },
  {
   "cell_type": "markdown",
   "metadata": {},
   "source": [
    "## Re-order columns"
   ]
  },
  {
   "cell_type": "code",
   "execution_count": null,
   "metadata": {},
   "outputs": [],
   "source": [
    "df = df.reindex(columns=FIRST_COLS + sorted(list(REMAINING_COLS)))"
   ]
  },
  {
   "cell_type": "markdown",
   "metadata": {},
   "source": [
    "## Assign: Create new columns easily from existing columns"
   ]
  },
  {
   "cell_type": "code",
   "execution_count": null,
   "metadata": {},
   "outputs": [],
   "source": [
    "# Docs: https://pandas.pydata.org/pandas-docs/stable/reference/api/pandas.DataFrame.assign.html\n",
    "df.assign(\n",
    "    temp_f=lambda x: x['temp_c'] * 9 / 5 + 32,\n",
    "    temp_k=lambda x: (x['temp_f'] +  459.67) * 5 / 9\n",
    ")"
   ]
  },
  {
   "cell_type": "markdown",
   "metadata": {},
   "source": [
    "## Tall to Wide form: `pd.pivot`"
   ]
  },
  {
   "cell_type": "markdown",
   "metadata": {},
   "source": [
    "Suppose we have a dataset of student grades with each student having multiple rows for each school subject grade. We want each row to correspond to a single student entry: all grades for all subjects for the students should be in a single row of the dataframe. "
   ]
  },
  {
   "cell_type": "code",
   "execution_count": null,
   "metadata": {},
   "outputs": [],
   "source": [
    "df_wide = df.pivot_table(values='Grade', # Score in each subject\n",
    "                         index=['ID', 'School'], # Student ID and school\n",
    "                         columns='Subjects', # Name of the subject\n",
    "                         aggfunc='last') "
   ]
  },
  {
   "cell_type": "markdown",
   "metadata": {},
   "source": [
    "## Wide to tall: `pd.melt`"
   ]
  },
  {
   "cell_type": "markdown",
   "metadata": {},
   "source": [
    "Never used it but seems the opposite of `pd.pivot_table` above\n",
    "\n",
    "https://pandas.pydata.org/docs/reference/api/pandas.melt.html"
   ]
  },
  {
   "cell_type": "code",
   "execution_count": null,
   "metadata": {},
   "outputs": [],
   "source": [
    "pd.melt(df, id_vars=['A'], value_vars=['B', 'C'])"
   ]
  },
  {
   "cell_type": "markdown",
   "metadata": {},
   "source": [
    "## Create a binary column based on two separate columns"
   ]
  },
  {
   "cell_type": "code",
   "execution_count": null,
   "metadata": {},
   "outputs": [],
   "source": [
    "df.loc[df['X'].notnull(), 'X_true'] = 1\n",
    "df.loc[df['X'].isnull(),  'X_true'] = 0"
   ]
  },
  {
   "cell_type": "markdown",
   "metadata": {},
   "source": [
    "## One Hot Encoding: custom name for the columns"
   ]
  },
  {
   "cell_type": "markdown",
   "metadata": {},
   "source": [
    "Create the columns based on OHE of a given column: \n",
    "\n",
    "```python\n",
    "['cluster 0', 'cluster 1', 'cluster 2']\n",
    "```"
   ]
  },
  {
   "cell_type": "markdown",
   "metadata": {},
   "source": [
    "**Bad** way"
   ]
  },
  {
   "cell_type": "code",
   "execution_count": null,
   "metadata": {},
   "outputs": [],
   "source": [
    "# What I have been using since the beginning of time\n",
    "# df_clusters_save.loc[df_clusters_save['clusters_kmeans']==0, 'cluster 0'] = 1\n",
    "# df_clusters_save.loc[df_clusters_save['clusters_kmeans']!=0, 'cluster 0'] = 0\n",
    "# df_clusters_save.loc[df_clusters_save['clusters_kmeans']==1, 'cluster 1'] = 1\n",
    "# df_clusters_save.loc[df_clusters_save['clusters_kmeans']!=1, 'cluster 1'] = 0\n",
    "# df_clusters_save.loc[df_clusters_save['clusters_kmeans']==2, 'cluster 2'] = 1\n",
    "# df_clusters_save.loc[df_clusters_save['clusters_kmeans']!=2, 'cluster 2'] = 0\n",
    "# df_clusters_save.columns"
   ]
  },
  {
   "cell_type": "markdown",
   "metadata": {},
   "source": [
    "**Good** way"
   ]
  },
  {
   "cell_type": "code",
   "execution_count": null,
   "metadata": {},
   "outputs": [],
   "source": [
    "dummies = pd.get_dummies(df_clusters_save['clusters_kmeans']).rename(columns=lambda x: 'cluster ' + str(x))\n",
    "df_clusters_save = pd.concat([df_clusters_save, dummies], axis=1)\n",
    "df_clusters_save.columns"
   ]
  },
  {
   "cell_type": "markdown",
   "metadata": {},
   "source": [
    "## Duplicates based on certain columns"
   ]
  },
  {
   "cell_type": "code",
   "execution_count": null,
   "metadata": {},
   "outputs": [],
   "source": [
    "duplicates = df[df.duplicated(subset=['ID', 'School'], keep=False)]\n",
    "print(f\"Duplicates found: {duplicates.shape[0]}\")\n",
    "\n",
    "# drop duplicates\n",
    "df_students.drop_duplicates(subset=['ID', 'School'], keep='last', inplace=True)"
   ]
  },
  {
   "cell_type": "markdown",
   "metadata": {},
   "source": [
    "## Force numeric dtype"
   ]
  },
  {
   "cell_type": "code",
   "execution_count": null,
   "metadata": {},
   "outputs": [],
   "source": [
    "for col in df.columns.tolist()[1:]:\n",
    "    df[col] = pd.to_numeric(df[col], errors='coerce')"
   ]
  },
  {
   "cell_type": "markdown",
   "metadata": {},
   "source": [
    "## Swedish/other language characters"
   ]
  },
  {
   "cell_type": "markdown",
   "metadata": {},
   "source": [
    "8: 8-bit encoding\n",
    "\n",
    "sig: signature; apparently adds signature at the beginning of the file so that software like microsoft excel / power bi can read it correctly"
   ]
  },
  {
   "cell_type": "code",
   "execution_count": null,
   "metadata": {},
   "outputs": [],
   "source": [
    "df.to_csv('names_in_swedish_german_other_languages.csv', index=False, encoding='utf-8-sig')"
   ]
  },
  {
   "cell_type": "markdown",
   "metadata": {},
   "source": [
    "## Row entries of a column that belong to a list"
   ]
  },
  {
   "cell_type": "markdown",
   "metadata": {},
   "source": [
    "For column `Enhet`, include/exclude only the entries that belong to a pre-defined list."
   ]
  },
  {
   "cell_type": "code",
   "execution_count": 1,
   "metadata": {},
   "outputs": [],
   "source": [
    "# Exclude entries\n",
    "df[~df['Enhet'].isin(EXCLUDE_SCHOOLS)]\n",
    "# Include entries\n",
    "df[df['Enhet'].isin(INCLUDE_SCHOOLS)]"
   ]
  },
  {
   "cell_type": "markdown",
   "metadata": {},
   "source": [
    "## `dropna` based on a column"
   ]
  },
  {
   "cell_type": "code",
   "execution_count": null,
   "metadata": {},
   "outputs": [],
   "source": [
    "df.dropna(subset=['School'], inplace=True)"
   ]
  },
  {
   "cell_type": "markdown",
   "metadata": {},
   "source": [
    "## Rename columns"
   ]
  },
  {
   "cell_type": "code",
   "execution_count": null,
   "metadata": {},
   "outputs": [],
   "source": [
    "COLUMN_NAMES = {\n",
    "    'X': 'Velocity', \n",
    "    'Y': 'Position',\n",
    "    'Z': 'Time'\n",
    "}\n",
    "\n",
    "df.rename(columns=COLUMN_NAMES, inplace=True)\n",
    "\n",
    "# caveat: does NOT always work!"
   ]
  },
  {
   "cell_type": "markdown",
   "metadata": {},
   "source": [
    "## Replace row values"
   ]
  },
  {
   "cell_type": "markdown",
   "metadata": {},
   "source": [
    "Has a lot of issues, so better to re-assign instead of using `inplace=True`."
   ]
  },
  {
   "cell_type": "code",
   "execution_count": null,
   "metadata": {},
   "outputs": [],
   "source": [
    "SCHOOL_NAMES = {\n",
    "    \"Jan\": \"January\", \n",
    "    \"Jan.\": \"January\"\n",
    "}\n",
    "\n",
    "# inplace does not always work\n",
    "# df.replace(SCHOOL_NAMES, inplace=True)\n",
    "\n",
    "# Better\n",
    "df = df.replace(SCHOOL_NAMES)"
   ]
  },
  {
   "cell_type": "markdown",
   "metadata": {},
   "source": [
    "## String processing"
   ]
  },
  {
   "cell_type": "code",
   "execution_count": null,
   "metadata": {},
   "outputs": [],
   "source": [
    "# Convert to string and split based on '-'\n",
    "df_schools_list = df.school.str.split('-').tolist()\n",
    "# Get rid of white space\n",
    "school_names = [long_name[-1].strip() for long_name in df_schools_list]\n",
    "# Rename schools\n",
    "df.school = school_names"
   ]
  }
 ],
 "metadata": {
  "kernelspec": {
   "display_name": "Python 3",
   "language": "python",
   "name": "python3"
  },
  "language_info": {
   "codemirror_mode": {
    "name": "ipython",
    "version": 3
   },
   "file_extension": ".py",
   "mimetype": "text/x-python",
   "name": "python",
   "nbconvert_exporter": "python",
   "pygments_lexer": "ipython3",
   "version": "3.8.5"
  }
 },
 "nbformat": 4,
 "nbformat_minor": 4
}
